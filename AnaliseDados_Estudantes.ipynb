{
 "cells": [
  {
   "cell_type": "markdown",
   "id": "8164d0a3",
   "metadata": {},
   "source": [
    "# Análise dos dados referente à estudantes de duas escolas portuguesas\n",
    "\n",
    "O objetivo desta análise é estudar possíveis razões que justifiquem as diferentes notas finais entre os alunos."
   ]
  },
  {
   "cell_type": "code",
   "execution_count": 63,
   "id": "21d750c6",
   "metadata": {},
   "outputs": [
    {
     "data": {
      "text/html": [
       "<div>\n",
       "<style scoped>\n",
       "    .dataframe tbody tr th:only-of-type {\n",
       "        vertical-align: middle;\n",
       "    }\n",
       "\n",
       "    .dataframe tbody tr th {\n",
       "        vertical-align: top;\n",
       "    }\n",
       "\n",
       "    .dataframe thead th {\n",
       "        text-align: right;\n",
       "    }\n",
       "</style>\n",
       "<table border=\"1\" class=\"dataframe\">\n",
       "  <thead>\n",
       "    <tr style=\"text-align: right;\">\n",
       "      <th></th>\n",
       "      <th>school</th>\n",
       "      <th>sex</th>\n",
       "      <th>age</th>\n",
       "      <th>address</th>\n",
       "      <th>famsize</th>\n",
       "      <th>Pstatus</th>\n",
       "      <th>Medu</th>\n",
       "      <th>Fedu</th>\n",
       "      <th>Mjob</th>\n",
       "      <th>Fjob</th>\n",
       "      <th>traveltime</th>\n",
       "      <th>studytime</th>\n",
       "      <th>schoolsup</th>\n",
       "      <th>internet</th>\n",
       "      <th>absences</th>\n",
       "      <th>G3</th>\n",
       "    </tr>\n",
       "  </thead>\n",
       "  <tbody>\n",
       "    <tr>\n",
       "      <th>0</th>\n",
       "      <td>GP</td>\n",
       "      <td>F</td>\n",
       "      <td>18</td>\n",
       "      <td>U</td>\n",
       "      <td>GT3</td>\n",
       "      <td>A</td>\n",
       "      <td>4</td>\n",
       "      <td>4</td>\n",
       "      <td>at_home</td>\n",
       "      <td>teacher</td>\n",
       "      <td>2</td>\n",
       "      <td>2</td>\n",
       "      <td>yes</td>\n",
       "      <td>no</td>\n",
       "      <td>6</td>\n",
       "      <td>6</td>\n",
       "    </tr>\n",
       "    <tr>\n",
       "      <th>1</th>\n",
       "      <td>GP</td>\n",
       "      <td>F</td>\n",
       "      <td>17</td>\n",
       "      <td>U</td>\n",
       "      <td>GT3</td>\n",
       "      <td>T</td>\n",
       "      <td>1</td>\n",
       "      <td>1</td>\n",
       "      <td>at_home</td>\n",
       "      <td>other</td>\n",
       "      <td>1</td>\n",
       "      <td>2</td>\n",
       "      <td>no</td>\n",
       "      <td>yes</td>\n",
       "      <td>4</td>\n",
       "      <td>6</td>\n",
       "    </tr>\n",
       "    <tr>\n",
       "      <th>2</th>\n",
       "      <td>GP</td>\n",
       "      <td>F</td>\n",
       "      <td>15</td>\n",
       "      <td>U</td>\n",
       "      <td>LE3</td>\n",
       "      <td>T</td>\n",
       "      <td>1</td>\n",
       "      <td>1</td>\n",
       "      <td>at_home</td>\n",
       "      <td>other</td>\n",
       "      <td>1</td>\n",
       "      <td>2</td>\n",
       "      <td>yes</td>\n",
       "      <td>yes</td>\n",
       "      <td>10</td>\n",
       "      <td>10</td>\n",
       "    </tr>\n",
       "    <tr>\n",
       "      <th>3</th>\n",
       "      <td>GP</td>\n",
       "      <td>F</td>\n",
       "      <td>15</td>\n",
       "      <td>U</td>\n",
       "      <td>GT3</td>\n",
       "      <td>T</td>\n",
       "      <td>4</td>\n",
       "      <td>2</td>\n",
       "      <td>health</td>\n",
       "      <td>services</td>\n",
       "      <td>1</td>\n",
       "      <td>3</td>\n",
       "      <td>no</td>\n",
       "      <td>yes</td>\n",
       "      <td>2</td>\n",
       "      <td>15</td>\n",
       "    </tr>\n",
       "    <tr>\n",
       "      <th>4</th>\n",
       "      <td>GP</td>\n",
       "      <td>F</td>\n",
       "      <td>16</td>\n",
       "      <td>U</td>\n",
       "      <td>GT3</td>\n",
       "      <td>T</td>\n",
       "      <td>3</td>\n",
       "      <td>3</td>\n",
       "      <td>other</td>\n",
       "      <td>other</td>\n",
       "      <td>1</td>\n",
       "      <td>2</td>\n",
       "      <td>no</td>\n",
       "      <td>no</td>\n",
       "      <td>4</td>\n",
       "      <td>10</td>\n",
       "    </tr>\n",
       "  </tbody>\n",
       "</table>\n",
       "</div>"
      ],
      "text/plain": [
       "  school sex  age address famsize Pstatus Medu Fedu     Mjob      Fjob  \\\n",
       "0     GP   F   18       U     GT3       A    4    4  at_home   teacher   \n",
       "1     GP   F   17       U     GT3       T    1    1  at_home     other   \n",
       "2     GP   F   15       U     LE3       T    1    1  at_home     other   \n",
       "3     GP   F   15       U     GT3       T    4    2   health  services   \n",
       "4     GP   F   16       U     GT3       T    3    3    other     other   \n",
       "\n",
       "  traveltime studytime schoolsup internet  absences  G3  \n",
       "0          2         2       yes       no         6   6  \n",
       "1          1         2        no      yes         4   6  \n",
       "2          1         2       yes      yes        10  10  \n",
       "3          1         3        no      yes         2  15  \n",
       "4          1         2        no       no         4  10  "
      ]
     },
     "execution_count": 63,
     "metadata": {},
     "output_type": "execute_result"
    }
   ],
   "source": [
    "import pandas as pd \n",
    "import numpy as np \n",
    "import seaborn as sns \n",
    "import matplotlib.pyplot as plt \n",
    "import warnings\n",
    "warnings.filterwarnings('ignore')\n",
    "\n",
    "pd.set_option('display.max_columns', 21)\n",
    "\n",
    "df = pd.read_csv(\"StudAlcoCons.csv\")\n",
    "\n",
    "#Abaixo, removo variáveis que não serão utilizadas na análise e trato algumas que serão utilizadas\n",
    "df = df.drop(['paid', 'activities', 'nursery', 'higher', 'romantic', 'schoolsup', 'internet', 'health', 'failures', 'famrel', 'guardian', 'famsup', 'reason', 'Dalc', 'Walc', 'freetime', 'goout', 'G1', 'G2'], 1)\n",
    "df['Medu'] = df['Medu'].astype(str)\n",
    "df['Fedu'] = df['Fedu'].astype(str)\n",
    "df['studytime'] = df['studytime'].astype(str)\n",
    "df['traveltime'] = df['traveltime'].astype(str)\n",
    "df.head() "
   ]
  },
  {
   "cell_type": "markdown",
   "id": "812e1d38",
   "metadata": {},
   "source": [
    "# Variáveis na base de dados:\n",
    "\n",
    "Segue a descrição de cada variável que será utilizada:\n",
    "\n",
    "1. school - Escola do estudante (binário: \"GP\" - Gabriel Pereira ou \"MS\" - Mousinho da Silveira)\n",
    "\n",
    "2. sex - Sexo do estudante (binário: \"F\" - Feminino ou \"M\" - Masculino)\n",
    "\n",
    "3. age - Idade do estudante (numérico: de 15 à 22)\n",
    "\n",
    "4. address - Tipo de endereço do estudante (binário: \"U\" - urbano ou \"R\" - rural)\n",
    "\n",
    "5. famsize - Tamanho da família (binário: \"LE3\" - menor ou igual a 3 or \"GT3\" - maior que 3)\n",
    "\n",
    "6. Pstatus - Status de coabitação dos pais (binário: \"T\" - vivendo juntos or \"A\" - separados)\n",
    "\n",
    "7. Medu - Educação da mãe (numérico: 0 - Não possui,  1 - primário, 2 – fundamental, 3 – médio or 4 – superior)\n",
    "\n",
    "8. Fedu - Educação do pai (numérico: 0 - Não possui,  1 - primário, 2 – fundamental, 3 – médio or 4 – superior)\n",
    "\n",
    "9. Mjob - Trabalho da mãe (nominal: \"teacher\" professor, \"health\" saúde, \"services\" serviço, \"at_home\" em casa ou \"other\" outro)\n",
    "\n",
    "10. Fjob - Trabalho do pai (nominal: \"teacher\" professor, \"health\" saúde, \"services\" serviço, \"at_home\" em casa ou \"other\" outro)\n",
    "\n",
    "12. traveltime - Tempo de viagem casa/escola (numérico: 1 - <15 min., 2 - 15 to 30 min., 3 - 30 min. to 1 hora, or 4 - >1 hora)\n",
    "\n",
    "13. studytime - Tempo de estudo / semana (numérico: 1 - <2 horas, 2 - 2 to 5 horas, 3 - 5 to 10 horas, or 4 - >10 horas)\n",
    "\n",
    "14. absences - Número de faltas na escola (numérico: de 0 à 93)\n",
    "\n",
    "15. G3 - Nota final (numérico: de 0 à 20)"
   ]
  },
  {
   "cell_type": "markdown",
   "id": "08184102",
   "metadata": {},
   "source": [
    "# Início das análises"
   ]
  },
  {
   "cell_type": "markdown",
   "id": "14356d47",
   "metadata": {},
   "source": [
    "## Análises Preliminares"
   ]
  },
  {
   "cell_type": "code",
   "execution_count": 64,
   "id": "4607caf0",
   "metadata": {},
   "outputs": [
    {
     "data": {
      "text/plain": [
       "(395, 16)"
      ]
     },
     "execution_count": 64,
     "metadata": {},
     "output_type": "execute_result"
    }
   ],
   "source": [
    "df.shape"
   ]
  },
  {
   "cell_type": "code",
   "execution_count": 65,
   "id": "0e85050a",
   "metadata": {},
   "outputs": [
    {
     "name": "stdout",
     "output_type": "stream",
     "text": [
      "<class 'pandas.core.frame.DataFrame'>\n",
      "RangeIndex: 395 entries, 0 to 394\n",
      "Data columns (total 16 columns):\n",
      " #   Column      Non-Null Count  Dtype \n",
      "---  ------      --------------  ----- \n",
      " 0   school      395 non-null    object\n",
      " 1   sex         395 non-null    object\n",
      " 2   age         395 non-null    int64 \n",
      " 3   address     395 non-null    object\n",
      " 4   famsize     395 non-null    object\n",
      " 5   Pstatus     395 non-null    object\n",
      " 6   Medu        395 non-null    object\n",
      " 7   Fedu        395 non-null    object\n",
      " 8   Mjob        395 non-null    object\n",
      " 9   Fjob        395 non-null    object\n",
      " 10  traveltime  395 non-null    object\n",
      " 11  studytime   395 non-null    object\n",
      " 12  schoolsup   395 non-null    object\n",
      " 13  internet    395 non-null    object\n",
      " 14  absences    395 non-null    int64 \n",
      " 15  G3          395 non-null    int64 \n",
      "dtypes: int64(3), object(13)\n",
      "memory usage: 49.5+ KB\n"
     ]
    }
   ],
   "source": [
    "df.info()"
   ]
  },
  {
   "cell_type": "code",
   "execution_count": 66,
   "id": "b18e5ebc",
   "metadata": {},
   "outputs": [
    {
     "data": {
      "text/html": [
       "<div>\n",
       "<style scoped>\n",
       "    .dataframe tbody tr th:only-of-type {\n",
       "        vertical-align: middle;\n",
       "    }\n",
       "\n",
       "    .dataframe tbody tr th {\n",
       "        vertical-align: top;\n",
       "    }\n",
       "\n",
       "    .dataframe thead th {\n",
       "        text-align: right;\n",
       "    }\n",
       "</style>\n",
       "<table border=\"1\" class=\"dataframe\">\n",
       "  <thead>\n",
       "    <tr style=\"text-align: right;\">\n",
       "      <th></th>\n",
       "      <th>age</th>\n",
       "      <th>absences</th>\n",
       "      <th>G3</th>\n",
       "    </tr>\n",
       "  </thead>\n",
       "  <tbody>\n",
       "    <tr>\n",
       "      <th>count</th>\n",
       "      <td>395.000000</td>\n",
       "      <td>395.000000</td>\n",
       "      <td>395.000000</td>\n",
       "    </tr>\n",
       "    <tr>\n",
       "      <th>mean</th>\n",
       "      <td>16.696203</td>\n",
       "      <td>5.708861</td>\n",
       "      <td>10.415190</td>\n",
       "    </tr>\n",
       "    <tr>\n",
       "      <th>std</th>\n",
       "      <td>1.276043</td>\n",
       "      <td>8.003096</td>\n",
       "      <td>4.581443</td>\n",
       "    </tr>\n",
       "    <tr>\n",
       "      <th>min</th>\n",
       "      <td>15.000000</td>\n",
       "      <td>0.000000</td>\n",
       "      <td>0.000000</td>\n",
       "    </tr>\n",
       "    <tr>\n",
       "      <th>25%</th>\n",
       "      <td>16.000000</td>\n",
       "      <td>0.000000</td>\n",
       "      <td>8.000000</td>\n",
       "    </tr>\n",
       "    <tr>\n",
       "      <th>50%</th>\n",
       "      <td>17.000000</td>\n",
       "      <td>4.000000</td>\n",
       "      <td>11.000000</td>\n",
       "    </tr>\n",
       "    <tr>\n",
       "      <th>75%</th>\n",
       "      <td>18.000000</td>\n",
       "      <td>8.000000</td>\n",
       "      <td>14.000000</td>\n",
       "    </tr>\n",
       "    <tr>\n",
       "      <th>max</th>\n",
       "      <td>22.000000</td>\n",
       "      <td>75.000000</td>\n",
       "      <td>20.000000</td>\n",
       "    </tr>\n",
       "  </tbody>\n",
       "</table>\n",
       "</div>"
      ],
      "text/plain": [
       "              age    absences          G3\n",
       "count  395.000000  395.000000  395.000000\n",
       "mean    16.696203    5.708861   10.415190\n",
       "std      1.276043    8.003096    4.581443\n",
       "min     15.000000    0.000000    0.000000\n",
       "25%     16.000000    0.000000    8.000000\n",
       "50%     17.000000    4.000000   11.000000\n",
       "75%     18.000000    8.000000   14.000000\n",
       "max     22.000000   75.000000   20.000000"
      ]
     },
     "execution_count": 66,
     "metadata": {},
     "output_type": "execute_result"
    }
   ],
   "source": [
    "df.describe()"
   ]
  },
  {
   "cell_type": "markdown",
   "id": "5339a066",
   "metadata": {},
   "source": [
    "A base de dados possui o registro de 395 alunos com idades variando entre 15 anos e 22 anos, onde 50% possuem menos de 17 anos e apenas 25% ficaram com uma nota final acima de 14 pontos. Além disso 75% dos estudantes possuem menos de 8 faltas no ano."
   ]
  },
  {
   "cell_type": "code",
   "execution_count": 60,
   "id": "15755db0",
   "metadata": {},
   "outputs": [
    {
     "data": {
      "image/png": "[encoded data removed]",
      "text/plain": [
       "<Figure size 720x576 with 1 Axes>"
      ]
     },
     "metadata": {
      "needs_background": "light"
     },
     "output_type": "display_data"
    }
   ],
   "source": [
    "plt.figure(figsize = (10, 8))\n",
    "\n",
    "sns.histplot(data = df, x = \"G3\", kde = True)\n",
    "plt.title('Distribuição das notas finais ')\n",
    "plt.ylabel('Total de alunos')\n",
    "plt.show()"
   ]
  },
  {
   "cell_type": "markdown",
   "id": "f48b0551",
   "metadata": {},
   "source": [
    "Pelo histograma pode-se notar que a maior parte das notas estão mais concentradas por volta de 7,5 à 16."
   ]
  },
  {
   "cell_type": "markdown",
   "id": "d7688abd",
   "metadata": {},
   "source": [
    "## Sexo dos Alunos"
   ]
  },
  {
   "cell_type": "code",
   "execution_count": 59,
   "id": "883b89f6",
   "metadata": {},
   "outputs": [
    {
     "data": {
      "image/png": "[encoded data removed]",
      "text/plain": [
       "<Figure size 720x576 with 1 Axes>"
      ]
     },
     "metadata": {
      "needs_background": "light"
     },
     "output_type": "display_data"
    }
   ],
   "source": [
    "plt.figure(figsize = (10, 8))\n",
    "\n",
    "sns.boxplot(x = 'sex', y = 'G3', data = df, hue = 'sex', dodge=False)\n",
    "plt.title('Boxplot das notas finais por sexo')\n",
    "plt.xlabel('Sexo')\n",
    "plt.ylabel('Nota Final')\n",
    "plt.legend()\n",
    "plt.show()"
   ]
  },
  {
   "cell_type": "markdown",
   "id": "4e99de90",
   "metadata": {},
   "source": [
    "Observe que a \"caixa\" referente ao sexo masculino está numa posição mais alta, indicando que, em média, as notas finais dos homens foram maiores do que as das mulheres."
   ]
  },
  {
   "cell_type": "markdown",
   "id": "4c362cc3",
   "metadata": {},
   "source": [
    "## Tipo de Endereço"
   ]
  },
  {
   "cell_type": "code",
   "execution_count": 59,
   "id": "c753b40c",
   "metadata": {},
   "outputs": [
    {
     "data": {
      "text/html": [
       "<div>\n",
       "<style scoped>\n",
       "    .dataframe tbody tr th:only-of-type {\n",
       "        vertical-align: middle;\n",
       "    }\n",
       "\n",
       "    .dataframe tbody tr th {\n",
       "        vertical-align: top;\n",
       "    }\n",
       "\n",
       "    .dataframe thead th {\n",
       "        text-align: right;\n",
       "    }\n",
       "</style>\n",
       "<table border=\"1\" class=\"dataframe\">\n",
       "  <thead>\n",
       "    <tr style=\"text-align: right;\">\n",
       "      <th></th>\n",
       "      <th>G3</th>\n",
       "    </tr>\n",
       "    <tr>\n",
       "      <th>address</th>\n",
       "      <th></th>\n",
       "    </tr>\n",
       "  </thead>\n",
       "  <tbody>\n",
       "    <tr>\n",
       "      <th>R</th>\n",
       "      <td>9.511364</td>\n",
       "    </tr>\n",
       "    <tr>\n",
       "      <th>U</th>\n",
       "      <td>10.674267</td>\n",
       "    </tr>\n",
       "  </tbody>\n",
       "</table>\n",
       "</div>"
      ],
      "text/plain": [
       "                G3\n",
       "address           \n",
       "R         9.511364\n",
       "U        10.674267"
      ]
     },
     "execution_count": 59,
     "metadata": {},
     "output_type": "execute_result"
    }
   ],
   "source": [
    "df.groupby(['address']).agg({\"G3\": \"mean\"})"
   ]
  },
  {
   "cell_type": "markdown",
   "id": "5180da2a",
   "metadata": {},
   "source": [
    "Veja que a nota final média dos alunos de áreas urbanas foi maior do que dos alunos das áreas rurais em cerca de 1 ponto. No entanto, para determinar se essa diferença foi significativa seria necessário realizar um Teste de Hipóteses sobre a nota final média em relação aos dois tipos de endereço. "
   ]
  },
  {
   "cell_type": "markdown",
   "id": "386ad56d",
   "metadata": {},
   "source": [
    "## Tamanho da Família"
   ]
  },
  {
   "cell_type": "code",
   "execution_count": 58,
   "id": "2fd6053d",
   "metadata": {},
   "outputs": [
    {
     "name": "stdout",
     "output_type": "stream",
     "text": [
      "GT3    281\n",
      "LE3    114\n",
      "Name: famsize, dtype: int64\n"
     ]
    },
    {
     "data": {
      "image/png": "[encoded data removed]",
      "text/plain": [
       "<Figure size 720x576 with 1 Axes>"
      ]
     },
     "metadata": {
      "needs_background": "light"
     },
     "output_type": "display_data"
    }
   ],
   "source": [
    "plt.figure(figsize = (10, 8))\n",
    "\n",
    "print(df['famsize'].value_counts())\n",
    "\n",
    "sns.boxplot(x = 'famsize', y = 'G3', data = df, hue = 'famsize', dodge=False)\n",
    "plt.title('Boxplot das notas finais por tamanho da família')\n",
    "plt.xlabel('Tamanho da Família')\n",
    "plt.ylabel('Nota Final')\n",
    "plt.legend()\n",
    "plt.show()"
   ]
  },
  {
   "cell_type": "markdown",
   "id": "d05aa967",
   "metadata": {},
   "source": [
    "Observe que, apesar de mediana e terceiro quartil iguais, a nota final dos alunos com famílias com mais de 3 membros esteve mais distribuida do que aqueles com menos de 3 membros na família. Uma coisa que pode justificar essa diferença é que o grupo GT3 possuía muito mais alunos, referencialmente, trazendo maior variabilidade de notas."
   ]
  },
  {
   "cell_type": "markdown",
   "id": "95dfa565",
   "metadata": {},
   "source": [
    "## Status de Coabitação dos Pais"
   ]
  },
  {
   "cell_type": "code",
   "execution_count": 16,
   "id": "2c311956",
   "metadata": {},
   "outputs": [
    {
     "name": "stdout",
     "output_type": "stream",
     "text": [
      "                G3\n",
      "Pstatus           \n",
      "A        11.195122\n",
      "T        10.324859\n"
     ]
    },
    {
     "data": {
      "image/png": "[encoded data removed]",
      "text/plain": [
       "<Figure size 1008x576 with 2 Axes>"
      ]
     },
     "metadata": {
      "needs_background": "light"
     },
     "output_type": "display_data"
    }
   ],
   "source": [
    "df_t = df[df['Pstatus'] == \"T\"]\n",
    "df_a = df[df['Pstatus'] == \"A\"]\n",
    "\n",
    "print(df.groupby(['Pstatus']).agg({\"G3\": \"mean\"}))\n",
    "\n",
    "#plt.figure(figsize = (10, 8))\n",
    "fig, axes = plt.subplots(2, 1, figsize = (14, 8))\n",
    "\n",
    "ax = sns.histplot(data = df_t, x = \"G3\", kde = True, ax = axes[0], color = \"blue\")\n",
    "ax.set(xlabel = None, ylabel = None)\n",
    "ax.legend([\"Casados\"])\n",
    "\n",
    "ax1 = sns.histplot(data = df_a, x = \"G3\", kde = True, ax = axes[1], color = \"red\")\n",
    "ax1.set(xlabel = None, ylabel = None)\n",
    "ax1.legend([\"Separados\"])\n",
    "\n",
    "plt.setp(axes, \n",
    "         yticks=[])\n",
    "plt.suptitle('Distribuição das notas finais por status de coabitação dos pais',\n",
    "             fontsize = 16)\n",
    "plt.tight_layout()\n",
    "plt.show()"
   ]
  },
  {
   "cell_type": "markdown",
   "id": "bae8c2e6",
   "metadata": {},
   "source": [
    "As distribuiçõeso das notas do alunos com pais casados e separados apresentam comportamento relativamente similares, como pode ser visto nos histogramas acima. Além disso, a diferença entre a nota final média dos alunos foi de menos de 1 ponto, indicando que os pais serem separados ou casados pode não afetar o rendimento dos alunos em sala de aula."
   ]
  },
  {
   "cell_type": "markdown",
   "id": "6bff422e",
   "metadata": {},
   "source": [
    "## Nível de Educação dos Pais"
   ]
  },
  {
   "cell_type": "code",
   "execution_count": 32,
   "id": "2afaebfb",
   "metadata": {},
   "outputs": [
    {
     "name": "stdout",
     "output_type": "stream",
     "text": [
      "Média da nota final por nível de educação da mãe\n",
      "\n",
      "             G3\n",
      "Medu           \n",
      "0     13.000000\n",
      "1      8.677966\n",
      "2      9.728155\n",
      "3     10.303030\n",
      "4     11.763359\n"
     ]
    }
   ],
   "source": [
    "print(\"Média da nota final por nível de educação da mãe\\n\")\n",
    "print(df.groupby(['Medu']).agg({\"G3\": \"mean\"}))"
   ]
  },
  {
   "cell_type": "code",
   "execution_count": 33,
   "id": "1f8593b3",
   "metadata": {},
   "outputs": [
    {
     "name": "stdout",
     "output_type": "stream",
     "text": [
      "Distribuição do nível de escolaridade das mães dos alunos\n",
      "\n",
      "4    131\n",
      "2    103\n",
      "3     99\n",
      "1     59\n",
      "0      3\n",
      "Name: Medu, dtype: int64\n"
     ]
    }
   ],
   "source": [
    "print(\"Distribuição do nível de escolaridade das mães dos alunos\\n\")\n",
    "print(df['Medu'].value_counts())"
   ]
  },
  {
   "cell_type": "markdown",
   "id": "47ac15b8",
   "metadata": {},
   "source": [
    "Acima pode-se observar que a nota média dos alunos com mãe sem nenhum nível de educação foi maior. Isso pode estar relacionado a baixa amostra desse caso, visto que dentre os 395 alunos, somente 3 estavam no grupo 0. Tirando essa exceção, observa-se que quanto maior o nível de educação da mãe, maior foi a nota final média do aluno."
   ]
  },
  {
   "cell_type": "code",
   "execution_count": 36,
   "id": "fe7baf8e",
   "metadata": {},
   "outputs": [
    {
     "name": "stdout",
     "output_type": "stream",
     "text": [
      "Média da nota final por nível de educação da mãe\n",
      "\n",
      "             G3\n",
      "Fedu           \n",
      "0     13.000000\n",
      "1      9.158537\n",
      "2     10.260870\n",
      "3     10.660000\n",
      "4     11.364583\n"
     ]
    }
   ],
   "source": [
    "print(\"Média da nota final por nível de educação do pai\\n\")\n",
    "print(df.groupby(['Fedu']).agg({\"G3\": \"mean\"}))"
   ]
  },
  {
   "cell_type": "code",
   "execution_count": 37,
   "id": "47c1d075",
   "metadata": {},
   "outputs": [
    {
     "name": "stdout",
     "output_type": "stream",
     "text": [
      "Distribuição do nível de escolaridade das mães dos alunos\n",
      "\n",
      "2    115\n",
      "3    100\n",
      "4     96\n",
      "1     82\n",
      "0      2\n",
      "Name: Fedu, dtype: int64\n"
     ]
    }
   ],
   "source": [
    "print(\"Distribuição do nível de escolaridade dos pais dos alunos\\n\")\n",
    "print(df['Fedu'].value_counts())"
   ]
  },
  {
   "cell_type": "markdown",
   "id": "ead6d88a",
   "metadata": {},
   "source": [
    "A mesma relação observada no caso das mães é observada para o nível de educação dos pais e sua relação com a nota final dos estudantes."
   ]
  },
  {
   "cell_type": "markdown",
   "id": "3afdb9d1",
   "metadata": {},
   "source": [
    "## Tipo de Trabalho dos Pais"
   ]
  },
  {
   "cell_type": "code",
   "execution_count": 40,
   "id": "5b40d12b",
   "metadata": {},
   "outputs": [
    {
     "name": "stdout",
     "output_type": "stream",
     "text": [
      "Média da nota final por tipo de trabalho da mãe\n",
      "\n",
      "                 G3\n",
      "Mjob               \n",
      "at_home    9.152542\n",
      "health    12.147059\n",
      "other      9.822695\n",
      "services  11.019417\n",
      "teacher   11.051724\n"
     ]
    }
   ],
   "source": [
    "print(\"Média da nota final por tipo de trabalho da mãe\\n\")\n",
    "print(df.groupby(['Mjob']).agg({\"G3\": \"mean\"}))"
   ]
  },
  {
   "cell_type": "code",
   "execution_count": 39,
   "id": "5efc49e8",
   "metadata": {},
   "outputs": [
    {
     "name": "stdout",
     "output_type": "stream",
     "text": [
      "Distribuição do tipo de trabalho das mães dos alunos\n",
      "\n",
      "other       141\n",
      "services    103\n",
      "at_home      59\n",
      "teacher      58\n",
      "health       34\n",
      "Name: Mjob, dtype: int64\n"
     ]
    }
   ],
   "source": [
    "print(\"Distribuição do tipo de trabalho das mães dos alunos\\n\")\n",
    "print(df['Mjob'].value_counts())"
   ]
  },
  {
   "cell_type": "markdown",
   "id": "f05a9384",
   "metadata": {},
   "source": [
    "Alunos que a mãe trabalha na área da saúde ou na educação tiveram uma nota final média maior que os outros casos."
   ]
  },
  {
   "cell_type": "code",
   "execution_count": 41,
   "id": "22259e45",
   "metadata": {},
   "outputs": [
    {
     "name": "stdout",
     "output_type": "stream",
     "text": [
      "Média da nota final por tipo de trabalho do pai\n",
      "\n",
      "                 G3\n",
      "Fjob               \n",
      "at_home   10.150000\n",
      "health    11.611111\n",
      "other     10.193548\n",
      "services  10.297297\n",
      "teacher   11.965517\n"
     ]
    }
   ],
   "source": [
    "print(\"Média da nota final por tipo de trabalho do pai\\n\")\n",
    "print(df.groupby(['Fjob']).agg({\"G3\": \"mean\"}))"
   ]
  },
  {
   "cell_type": "code",
   "execution_count": 42,
   "id": "207ffb96",
   "metadata": {},
   "outputs": [
    {
     "name": "stdout",
     "output_type": "stream",
     "text": [
      "Distribuição do tipo de trabalho dos pais dos alunos\n",
      "\n",
      "other       217\n",
      "services    111\n",
      "teacher      29\n",
      "at_home      20\n",
      "health       18\n",
      "Name: Fjob, dtype: int64\n"
     ]
    }
   ],
   "source": [
    "print(\"Distribuição do tipo de trabalho dos pais dos alunos\\n\")\n",
    "print(df['Fjob'].value_counts())"
   ]
  },
  {
   "cell_type": "markdown",
   "id": "fc3ce491",
   "metadata": {},
   "source": [
    "A mesma relação que existe com as mães ocorre com os pais. Além disso, uma coisa que se nota é que existem muito mais mãe no grupo \"em casa\", mas também estão mais presentes nos grupos \"saúde\" e \"educação\", em relação aos pais."
   ]
  },
  {
   "cell_type": "markdown",
   "id": "db79290a",
   "metadata": {},
   "source": [
    "## Tempo de Viagem até a Escola"
   ]
  },
  {
   "cell_type": "code",
   "execution_count": 57,
   "id": "fca53950",
   "metadata": {},
   "outputs": [
    {
     "name": "stdout",
     "output_type": "stream",
     "text": [
      "Distribuição do tempo de viagem até a escola dos alunos\n",
      "\n",
      "1    257\n",
      "2    107\n",
      "3     23\n",
      "4      8\n",
      "Name: traveltime, dtype: int64\n"
     ]
    },
    {
     "data": {
      "image/png": "[encoded data removed]",
      "text/plain": [
       "<Figure size 720x576 with 1 Axes>"
      ]
     },
     "metadata": {
      "needs_background": "light"
     },
     "output_type": "display_data"
    }
   ],
   "source": [
    "plt.figure(figsize = (10, 8))\n",
    "\n",
    "print(\"Distribuição do tempo de viagem até a escola dos alunos\\n\")\n",
    "print(df['traveltime'].value_counts())\n",
    "\n",
    "sns.boxplot(x = 'traveltime', y = 'G3', data = df, hue = 'traveltime', dodge=False, order = ['1', '2', '3', '4'])\n",
    "plt.title('Boxplot das notas finais por tempo de viagem até a escola')\n",
    "plt.xlabel('Tempo de Viagem')\n",
    "plt.ylabel('Nota Final')\n",
    "plt.legend()\n",
    "plt.show()"
   ]
  },
  {
   "cell_type": "markdown",
   "id": "e8212301",
   "metadata": {},
   "source": [
    "Os boxplot deixam claro que quanto menor o tempo de viagem, melhor foram as notas finais."
   ]
  },
  {
   "cell_type": "markdown",
   "id": "a8785b36",
   "metadata": {},
   "source": [
    "## Tempo de Estudo"
   ]
  },
  {
   "cell_type": "code",
   "execution_count": 62,
   "id": "ec1ca3d4",
   "metadata": {},
   "outputs": [
    {
     "name": "stdout",
     "output_type": "stream",
     "text": [
      "Distribuição do tempo de estudo dos alunos\n",
      "\n",
      "2    198\n",
      "1    105\n",
      "3     65\n",
      "4     27\n",
      "Name: studytime, dtype: int64\n"
     ]
    },
    {
     "data": {
      "image/png": "[encoded data removed]",
      "text/plain": [
       "<Figure size 720x576 with 1 Axes>"
      ]
     },
     "metadata": {
      "needs_background": "light"
     },
     "output_type": "display_data"
    }
   ],
   "source": [
    "plt.figure(figsize = (10, 8))\n",
    "\n",
    "print(\"Distribuição do tempo de estudo dos alunos\\n\")\n",
    "print(df['studytime'].value_counts())\n",
    "\n",
    "sns.boxplot(x = 'studytime', y = 'G3', data = df, hue = 'studytime', dodge=False, order = ['1', '2', '3', '4'])\n",
    "plt.title('Boxplot das notas finais por tempo de estudo dos alunos')\n",
    "plt.xlabel('Tempo de Estudo')\n",
    "plt.ylabel('Nota Final')\n",
    "plt.legend()\n",
    "\n",
    "plt.show()"
   ]
  },
  {
   "cell_type": "markdown",
   "id": "3787bdb4",
   "metadata": {},
   "source": [
    "Uma relação que, pelo senso comum, já era esperada se confirma com esses dados. Quando maior foi o tempo de estudo do aluno, maior foram as notas, ficando claro com o aumento da mediana entre as \"caixas\"."
   ]
  },
  {
   "cell_type": "markdown",
   "id": "bd7b1534",
   "metadata": {},
   "source": [
    "## Número de Faltas"
   ]
  },
  {
   "cell_type": "code",
   "execution_count": 67,
   "id": "53d6cfaa",
   "metadata": {},
   "outputs": [
    {
     "data": {
      "text/plain": [
       "<AxesSubplot:xlabel='absences', ylabel='G3'>"
      ]
     },
     "execution_count": 67,
     "metadata": {},
     "output_type": "execute_result"
    },
    {
     "data": {
      "image/png": "[encoded data removed]",
      "text/plain": [
       "<Figure size 432x288 with 1 Axes>"
      ]
     },
     "metadata": {
      "needs_background": "light"
     },
     "output_type": "display_data"
    }
   ],
   "source": [
    "sns.scatterplot(x = 'absences', y = 'G3', data = df)"
   ]
  },
  {
   "cell_type": "markdown",
   "id": "77b9076a",
   "metadata": {},
   "source": [
    "O gráfico acima mostra que não existe nenhuma relação linear entre o número de faltas do aluno com sua nota final. Apesar de que nenhum aluno com mais de 30 faltas tirou mais de 12,5 pontos, entre 0 e 10 faltas existem notas finais entre 5 e 20 pontos."
   ]
  },
  {
   "cell_type": "markdown",
   "id": "30cfcb2f",
   "metadata": {},
   "source": [
    "## Conclusão"
   ]
  },
  {
   "cell_type": "markdown",
   "id": "c90d38a3",
   "metadata": {},
   "source": [
    "- De modo geral, os alunos tiveram notas medianas entre 7,5 e 15,5;\n",
    "\n",
    "- As notas finais dos alunos homens foram maiores do que das  alunas mulheres;\n",
    "\n",
    "- A nota final média dos alunos de áreas urbanas foi maior do que das áreas rurais ;\n",
    "\n",
    "- O tamanho da família não parece ter grande influência na nota final;\n",
    "\n",
    "- Os pais serem separados ou casados parece não afetar o rendimento dos alunos em sala de aula, visto que a distribuição das notas foi bem similar entre os dois grupos;\n",
    "\n",
    "- Quanto maior o nível de educação da mãe e do pai, maior foi a nota final média do aluno;\n",
    "\n",
    "- Mães e pais que trabalha na área da saúde ou na educação os filhos tiveram uma nota final média maior que os outros casos;\n",
    "\n",
    "- Quanto menor o tempo de viagem para a escola, melhor foram as notas;\n",
    "\n",
    "- Quando maior foi o tempo de estudo do aluno, maior foram as nota;\n",
    "\n",
    "- Não existe nenhuma relação linear entre o número de faltas do aluno com sua nota final."
   ]
  }
 ],
 "metadata": {
  "kernelspec": {
   "display_name": "Python 3 (ipykernel)",
   "language": "python",
   "name": "python3"
  },
  "language_info": {
   "codemirror_mode": {
    "name": "ipython",
    "version": 3
   },
   "file_extension": ".py",
   "mimetype": "text/x-python",
   "name": "python",
   "nbconvert_exporter": "python",
   "pygments_lexer": "ipython3",
   "version": "3.9.7"
  },
  "toc": {
   "base_numbering": 1,
   "nav_menu": {},
   "number_sections": true,
   "sideBar": true,
   "skip_h1_title": false,
   "title_cell": "Table of Contents",
   "title_sidebar": "Contents",
   "toc_cell": false,
   "toc_position": {},
   "toc_section_display": true,
   "toc_window_display": false
  }
 },
 "nbformat": 4,
 "nbformat_minor": 5
}
